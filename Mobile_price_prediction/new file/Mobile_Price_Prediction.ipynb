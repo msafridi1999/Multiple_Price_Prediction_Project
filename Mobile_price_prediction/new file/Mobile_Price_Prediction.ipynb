{
  "cells": [
    {
      "cell_type": "code",
      "execution_count": null,
      "metadata": {
        "id": "o7e5VX8-QcZG"
      },
      "outputs": [],
      "source": [
        "import numpy as np\n",
        "import pandas as pd\n",
        "import matplotlib.pyplot as plt\n",
        "import seaborn as sns"
      ]
    },
    {
      "cell_type": "code",
      "execution_count": null,
      "metadata": {
        "id": "LeNFqDv6RQuj"
      },
      "outputs": [],
      "source": [
        "data = pd.read_csv('/content/data.csv')"
      ]
    },
    {
      "cell_type": "code",
      "execution_count": null,
      "metadata": {
        "colab": {
          "base_uri": "https://localhost:8080/"
        },
        "id": "-znain-3RdG_",
        "outputId": "97cae4f2-3207-4f66-c09e-1b2ac8bd243c"
      },
      "outputs": [
        {
          "output_type": "execute_result",
          "data": {
            "text/plain": [
              "(836, 10)"
            ]
          },
          "metadata": {},
          "execution_count": 3
        }
      ],
      "source": [
        "data.shape"
      ]
    },
    {
      "cell_type": "code",
      "execution_count": null,
      "metadata": {
        "colab": {
          "base_uri": "https://localhost:8080/",
          "height": 258
        },
        "id": "MWgf9OhqRY3Y",
        "outputId": "02856d55-13f4-4c42-8b9b-99b3849e785e"
      },
      "outputs": [
        {
          "output_type": "execute_result",
          "data": {
            "text/plain": [
              "   Unnamed: 0                         Brand me  Ratings  RAM    ROM  \\\n",
              "0           0            LG V30+ (Black, 128 )      4.3  4.0  128.0   \n",
              "1           1                       I Kall K11      3.4  6.0   64.0   \n",
              "2           2                     Nokia 105 ss      4.3  4.0    4.0   \n",
              "3           3  Samsung Galaxy A50 (White, 64 )      4.4  6.0   64.0   \n",
              "4           4       POCO F1 (Steel Blue, 128 )      4.5  6.0  128.0   \n",
              "\n",
              "   Mobile_Size  Primary_Cam  Selfi_Cam  Battery_Power  Price  \n",
              "0         6.00           48       13.0           4000  24999  \n",
              "1         4.50           48       12.0           4000  15999  \n",
              "2         4.50           64       16.0           4000  15000  \n",
              "3         6.40           48       15.0           3800  18999  \n",
              "4         6.18           35       15.0           3800  18999  "
            ],
            "text/html": [
              "\n",
              "  <div id=\"df-c606095e-3057-411f-af3a-895d6490b735\" class=\"colab-df-container\">\n",
              "    <div>\n",
              "<style scoped>\n",
              "    .dataframe tbody tr th:only-of-type {\n",
              "        vertical-align: middle;\n",
              "    }\n",
              "\n",
              "    .dataframe tbody tr th {\n",
              "        vertical-align: top;\n",
              "    }\n",
              "\n",
              "    .dataframe thead th {\n",
              "        text-align: right;\n",
              "    }\n",
              "</style>\n",
              "<table border=\"1\" class=\"dataframe\">\n",
              "  <thead>\n",
              "    <tr style=\"text-align: right;\">\n",
              "      <th></th>\n",
              "      <th>Unnamed: 0</th>\n",
              "      <th>Brand me</th>\n",
              "      <th>Ratings</th>\n",
              "      <th>RAM</th>\n",
              "      <th>ROM</th>\n",
              "      <th>Mobile_Size</th>\n",
              "      <th>Primary_Cam</th>\n",
              "      <th>Selfi_Cam</th>\n",
              "      <th>Battery_Power</th>\n",
              "      <th>Price</th>\n",
              "    </tr>\n",
              "  </thead>\n",
              "  <tbody>\n",
              "    <tr>\n",
              "      <th>0</th>\n",
              "      <td>0</td>\n",
              "      <td>LG V30+ (Black, 128 )</td>\n",
              "      <td>4.3</td>\n",
              "      <td>4.0</td>\n",
              "      <td>128.0</td>\n",
              "      <td>6.00</td>\n",
              "      <td>48</td>\n",
              "      <td>13.0</td>\n",
              "      <td>4000</td>\n",
              "      <td>24999</td>\n",
              "    </tr>\n",
              "    <tr>\n",
              "      <th>1</th>\n",
              "      <td>1</td>\n",
              "      <td>I Kall K11</td>\n",
              "      <td>3.4</td>\n",
              "      <td>6.0</td>\n",
              "      <td>64.0</td>\n",
              "      <td>4.50</td>\n",
              "      <td>48</td>\n",
              "      <td>12.0</td>\n",
              "      <td>4000</td>\n",
              "      <td>15999</td>\n",
              "    </tr>\n",
              "    <tr>\n",
              "      <th>2</th>\n",
              "      <td>2</td>\n",
              "      <td>Nokia 105 ss</td>\n",
              "      <td>4.3</td>\n",
              "      <td>4.0</td>\n",
              "      <td>4.0</td>\n",
              "      <td>4.50</td>\n",
              "      <td>64</td>\n",
              "      <td>16.0</td>\n",
              "      <td>4000</td>\n",
              "      <td>15000</td>\n",
              "    </tr>\n",
              "    <tr>\n",
              "      <th>3</th>\n",
              "      <td>3</td>\n",
              "      <td>Samsung Galaxy A50 (White, 64 )</td>\n",
              "      <td>4.4</td>\n",
              "      <td>6.0</td>\n",
              "      <td>64.0</td>\n",
              "      <td>6.40</td>\n",
              "      <td>48</td>\n",
              "      <td>15.0</td>\n",
              "      <td>3800</td>\n",
              "      <td>18999</td>\n",
              "    </tr>\n",
              "    <tr>\n",
              "      <th>4</th>\n",
              "      <td>4</td>\n",
              "      <td>POCO F1 (Steel Blue, 128 )</td>\n",
              "      <td>4.5</td>\n",
              "      <td>6.0</td>\n",
              "      <td>128.0</td>\n",
              "      <td>6.18</td>\n",
              "      <td>35</td>\n",
              "      <td>15.0</td>\n",
              "      <td>3800</td>\n",
              "      <td>18999</td>\n",
              "    </tr>\n",
              "  </tbody>\n",
              "</table>\n",
              "</div>\n",
              "    <div class=\"colab-df-buttons\">\n",
              "\n",
              "  <div class=\"colab-df-container\">\n",
              "    <button class=\"colab-df-convert\" onclick=\"convertToInteractive('df-c606095e-3057-411f-af3a-895d6490b735')\"\n",
              "            title=\"Convert this dataframe to an interactive table.\"\n",
              "            style=\"display:none;\">\n",
              "\n",
              "  <svg xmlns=\"http://www.w3.org/2000/svg\" height=\"24px\" viewBox=\"0 -960 960 960\">\n",
              "    <path d=\"M120-120v-720h720v720H120Zm60-500h600v-160H180v160Zm220 220h160v-160H400v160Zm0 220h160v-160H400v160ZM180-400h160v-160H180v160Zm440 0h160v-160H620v160ZM180-180h160v-160H180v160Zm440 0h160v-160H620v160Z\"/>\n",
              "  </svg>\n",
              "    </button>\n",
              "\n",
              "  <style>\n",
              "    .colab-df-container {\n",
              "      display:flex;\n",
              "      gap: 12px;\n",
              "    }\n",
              "\n",
              "    .colab-df-convert {\n",
              "      background-color: #E8F0FE;\n",
              "      border: none;\n",
              "      border-radius: 50%;\n",
              "      cursor: pointer;\n",
              "      display: none;\n",
              "      fill: #1967D2;\n",
              "      height: 32px;\n",
              "      padding: 0 0 0 0;\n",
              "      width: 32px;\n",
              "    }\n",
              "\n",
              "    .colab-df-convert:hover {\n",
              "      background-color: #E2EBFA;\n",
              "      box-shadow: 0px 1px 2px rgba(60, 64, 67, 0.3), 0px 1px 3px 1px rgba(60, 64, 67, 0.15);\n",
              "      fill: #174EA6;\n",
              "    }\n",
              "\n",
              "    .colab-df-buttons div {\n",
              "      margin-bottom: 4px;\n",
              "    }\n",
              "\n",
              "    [theme=dark] .colab-df-convert {\n",
              "      background-color: #3B4455;\n",
              "      fill: #D2E3FC;\n",
              "    }\n",
              "\n",
              "    [theme=dark] .colab-df-convert:hover {\n",
              "      background-color: #434B5C;\n",
              "      box-shadow: 0px 1px 3px 1px rgba(0, 0, 0, 0.15);\n",
              "      filter: drop-shadow(0px 1px 2px rgba(0, 0, 0, 0.3));\n",
              "      fill: #FFFFFF;\n",
              "    }\n",
              "  </style>\n",
              "\n",
              "    <script>\n",
              "      const buttonEl =\n",
              "        document.querySelector('#df-c606095e-3057-411f-af3a-895d6490b735 button.colab-df-convert');\n",
              "      buttonEl.style.display =\n",
              "        google.colab.kernel.accessAllowed ? 'block' : 'none';\n",
              "\n",
              "      async function convertToInteractive(key) {\n",
              "        const element = document.querySelector('#df-c606095e-3057-411f-af3a-895d6490b735');\n",
              "        const dataTable =\n",
              "          await google.colab.kernel.invokeFunction('convertToInteractive',\n",
              "                                                    [key], {});\n",
              "        if (!dataTable) return;\n",
              "\n",
              "        const docLinkHtml = 'Like what you see? Visit the ' +\n",
              "          '<a target=\"_blank\" href=https://colab.research.google.com/notebooks/data_table.ipynb>data table notebook</a>'\n",
              "          + ' to learn more about interactive tables.';\n",
              "        element.innerHTML = '';\n",
              "        dataTable['output_type'] = 'display_data';\n",
              "        await google.colab.output.renderOutput(dataTable, element);\n",
              "        const docLink = document.createElement('div');\n",
              "        docLink.innerHTML = docLinkHtml;\n",
              "        element.appendChild(docLink);\n",
              "      }\n",
              "    </script>\n",
              "  </div>\n",
              "\n",
              "\n",
              "<div id=\"df-4db771ea-9bd2-4675-ac9a-da20550f4e52\">\n",
              "  <button class=\"colab-df-quickchart\" onclick=\"quickchart('df-4db771ea-9bd2-4675-ac9a-da20550f4e52')\"\n",
              "            title=\"Suggest charts\"\n",
              "            style=\"display:none;\">\n",
              "\n",
              "<svg xmlns=\"http://www.w3.org/2000/svg\" height=\"24px\"viewBox=\"0 0 24 24\"\n",
              "     width=\"24px\">\n",
              "    <g>\n",
              "        <path d=\"M19 3H5c-1.1 0-2 .9-2 2v14c0 1.1.9 2 2 2h14c1.1 0 2-.9 2-2V5c0-1.1-.9-2-2-2zM9 17H7v-7h2v7zm4 0h-2V7h2v10zm4 0h-2v-4h2v4z\"/>\n",
              "    </g>\n",
              "</svg>\n",
              "  </button>\n",
              "\n",
              "<style>\n",
              "  .colab-df-quickchart {\n",
              "      --bg-color: #E8F0FE;\n",
              "      --fill-color: #1967D2;\n",
              "      --hover-bg-color: #E2EBFA;\n",
              "      --hover-fill-color: #174EA6;\n",
              "      --disabled-fill-color: #AAA;\n",
              "      --disabled-bg-color: #DDD;\n",
              "  }\n",
              "\n",
              "  [theme=dark] .colab-df-quickchart {\n",
              "      --bg-color: #3B4455;\n",
              "      --fill-color: #D2E3FC;\n",
              "      --hover-bg-color: #434B5C;\n",
              "      --hover-fill-color: #FFFFFF;\n",
              "      --disabled-bg-color: #3B4455;\n",
              "      --disabled-fill-color: #666;\n",
              "  }\n",
              "\n",
              "  .colab-df-quickchart {\n",
              "    background-color: var(--bg-color);\n",
              "    border: none;\n",
              "    border-radius: 50%;\n",
              "    cursor: pointer;\n",
              "    display: none;\n",
              "    fill: var(--fill-color);\n",
              "    height: 32px;\n",
              "    padding: 0;\n",
              "    width: 32px;\n",
              "  }\n",
              "\n",
              "  .colab-df-quickchart:hover {\n",
              "    background-color: var(--hover-bg-color);\n",
              "    box-shadow: 0 1px 2px rgba(60, 64, 67, 0.3), 0 1px 3px 1px rgba(60, 64, 67, 0.15);\n",
              "    fill: var(--button-hover-fill-color);\n",
              "  }\n",
              "\n",
              "  .colab-df-quickchart-complete:disabled,\n",
              "  .colab-df-quickchart-complete:disabled:hover {\n",
              "    background-color: var(--disabled-bg-color);\n",
              "    fill: var(--disabled-fill-color);\n",
              "    box-shadow: none;\n",
              "  }\n",
              "\n",
              "  .colab-df-spinner {\n",
              "    border: 2px solid var(--fill-color);\n",
              "    border-color: transparent;\n",
              "    border-bottom-color: var(--fill-color);\n",
              "    animation:\n",
              "      spin 1s steps(1) infinite;\n",
              "  }\n",
              "\n",
              "  @keyframes spin {\n",
              "    0% {\n",
              "      border-color: transparent;\n",
              "      border-bottom-color: var(--fill-color);\n",
              "      border-left-color: var(--fill-color);\n",
              "    }\n",
              "    20% {\n",
              "      border-color: transparent;\n",
              "      border-left-color: var(--fill-color);\n",
              "      border-top-color: var(--fill-color);\n",
              "    }\n",
              "    30% {\n",
              "      border-color: transparent;\n",
              "      border-left-color: var(--fill-color);\n",
              "      border-top-color: var(--fill-color);\n",
              "      border-right-color: var(--fill-color);\n",
              "    }\n",
              "    40% {\n",
              "      border-color: transparent;\n",
              "      border-right-color: var(--fill-color);\n",
              "      border-top-color: var(--fill-color);\n",
              "    }\n",
              "    60% {\n",
              "      border-color: transparent;\n",
              "      border-right-color: var(--fill-color);\n",
              "    }\n",
              "    80% {\n",
              "      border-color: transparent;\n",
              "      border-right-color: var(--fill-color);\n",
              "      border-bottom-color: var(--fill-color);\n",
              "    }\n",
              "    90% {\n",
              "      border-color: transparent;\n",
              "      border-bottom-color: var(--fill-color);\n",
              "    }\n",
              "  }\n",
              "</style>\n",
              "\n",
              "  <script>\n",
              "    async function quickchart(key) {\n",
              "      const quickchartButtonEl =\n",
              "        document.querySelector('#' + key + ' button');\n",
              "      quickchartButtonEl.disabled = true;  // To prevent multiple clicks.\n",
              "      quickchartButtonEl.classList.add('colab-df-spinner');\n",
              "      try {\n",
              "        const charts = await google.colab.kernel.invokeFunction(\n",
              "            'suggestCharts', [key], {});\n",
              "      } catch (error) {\n",
              "        console.error('Error during call to suggestCharts:', error);\n",
              "      }\n",
              "      quickchartButtonEl.classList.remove('colab-df-spinner');\n",
              "      quickchartButtonEl.classList.add('colab-df-quickchart-complete');\n",
              "    }\n",
              "    (() => {\n",
              "      let quickchartButtonEl =\n",
              "        document.querySelector('#df-4db771ea-9bd2-4675-ac9a-da20550f4e52 button');\n",
              "      quickchartButtonEl.style.display =\n",
              "        google.colab.kernel.accessAllowed ? 'block' : 'none';\n",
              "    })();\n",
              "  </script>\n",
              "</div>\n",
              "\n",
              "    </div>\n",
              "  </div>\n"
            ],
            "application/vnd.google.colaboratory.intrinsic+json": {
              "type": "dataframe",
              "variable_name": "data",
              "summary": "{\n  \"name\": \"data\",\n  \"rows\": 836,\n  \"fields\": [\n    {\n      \"column\": \"Unnamed: 0\",\n      \"properties\": {\n        \"dtype\": \"number\",\n        \"std\": 241,\n        \"min\": 0,\n        \"max\": 835,\n        \"num_unique_values\": 836,\n        \"samples\": [\n          611,\n          823,\n          290\n        ],\n        \"semantic_type\": \"\",\n        \"description\": \"\"\n      }\n    },\n    {\n      \"column\": \"Brand me\",\n      \"properties\": {\n        \"dtype\": \"string\",\n        \"num_unique_values\": 427,\n        \"samples\": [\n          \"OnePlus 7 (Mirror Grey, 256 )\",\n          \"Redmi Note 7 Pro (Neptune Blue, 128 )\",\n          \"Vivo V17Pro (Glacier Ice White, 128 )\"\n        ],\n        \"semantic_type\": \"\",\n        \"description\": \"\"\n      }\n    },\n    {\n      \"column\": \"Ratings\",\n      \"properties\": {\n        \"dtype\": \"number\",\n        \"std\": 0.3653564946598119,\n        \"min\": 2.8,\n        \"max\": 4.8,\n        \"num_unique_values\": 20,\n        \"samples\": [\n          4.3,\n          3.1,\n          3.3\n        ],\n        \"semantic_type\": \"\",\n        \"description\": \"\"\n      }\n    },\n    {\n      \"column\": \"RAM\",\n      \"properties\": {\n        \"dtype\": \"number\",\n        \"std\": 2.5303355225505064,\n        \"min\": 0.0,\n        \"max\": 34.0,\n        \"num_unique_values\": 13,\n        \"samples\": [\n          30.0,\n          25.0,\n          4.0\n        ],\n        \"semantic_type\": \"\",\n        \"description\": \"\"\n      }\n    },\n    {\n      \"column\": \"ROM\",\n      \"properties\": {\n        \"dtype\": \"number\",\n        \"std\": 53.447824878694796,\n        \"min\": 0.0,\n        \"max\": 256.0,\n        \"num_unique_values\": 22,\n        \"samples\": [\n          128.0,\n          22.0,\n          56.0\n        ],\n        \"semantic_type\": \"\",\n        \"description\": \"\"\n      }\n    },\n    {\n      \"column\": \"Mobile_Size\",\n      \"properties\": {\n        \"dtype\": \"number\",\n        \"std\": 3.8986644597820286,\n        \"min\": 2.0,\n        \"max\": 44.0,\n        \"num_unique_values\": 47,\n        \"samples\": [\n          4.57,\n          6.6,\n          4.58\n        ],\n        \"semantic_type\": \"\",\n        \"description\": \"\"\n      }\n    },\n    {\n      \"column\": \"Primary_Cam\",\n      \"properties\": {\n        \"dtype\": \"number\",\n        \"std\": 11,\n        \"min\": 5,\n        \"max\": 64,\n        \"num_unique_values\": 11,\n        \"samples\": [\n          25,\n          48,\n          16\n        ],\n        \"semantic_type\": \"\",\n        \"description\": \"\"\n      }\n    },\n    {\n      \"column\": \"Selfi_Cam\",\n      \"properties\": {\n        \"dtype\": \"number\",\n        \"std\": 6.503838165404479,\n        \"min\": 0.0,\n        \"max\": 61.0,\n        \"num_unique_values\": 23,\n        \"samples\": [\n          17.0,\n          32.0,\n          13.0\n        ],\n        \"semantic_type\": \"\",\n        \"description\": \"\"\n      }\n    },\n    {\n      \"column\": \"Battery_Power\",\n      \"properties\": {\n        \"dtype\": \"number\",\n        \"std\": 927,\n        \"min\": 1020,\n        \"max\": 6000,\n        \"num_unique_values\": 49,\n        \"samples\": [\n          4010,\n          3400,\n          4780\n        ],\n        \"semantic_type\": \"\",\n        \"description\": \"\"\n      }\n    },\n    {\n      \"column\": \"Price\",\n      \"properties\": {\n        \"dtype\": \"number\",\n        \"std\": 52805,\n        \"min\": 479,\n        \"max\": 573000,\n        \"num_unique_values\": 253,\n        \"samples\": [\n          1619,\n          47999,\n          559\n        ],\n        \"semantic_type\": \"\",\n        \"description\": \"\"\n      }\n    }\n  ]\n}"
            }
          },
          "metadata": {},
          "execution_count": 4
        }
      ],
      "source": [
        "data.head()"
      ]
    },
    {
      "cell_type": "code",
      "execution_count": null,
      "metadata": {
        "id": "uQPeYFaQrITd"
      },
      "outputs": [],
      "source": [
        " data.drop(\"Unnamed: 0\",axis=1,inplace=True)"
      ]
    },
    {
      "cell_type": "code",
      "execution_count": null,
      "metadata": {
        "colab": {
          "base_uri": "https://localhost:8080/",
          "height": 206
        },
        "id": "74-o4VNJrXQj",
        "outputId": "12d22330-548e-4517-fb4d-8fe93185867b"
      },
      "outputs": [
        {
          "output_type": "execute_result",
          "data": {
            "text/plain": [
              "                          Brand me  Ratings  RAM    ROM  Mobile_Size  \\\n",
              "0            LG V30+ (Black, 128 )      4.3  4.0  128.0         6.00   \n",
              "1                       I Kall K11      3.4  6.0   64.0         4.50   \n",
              "2                     Nokia 105 ss      4.3  4.0    4.0         4.50   \n",
              "3  Samsung Galaxy A50 (White, 64 )      4.4  6.0   64.0         6.40   \n",
              "4       POCO F1 (Steel Blue, 128 )      4.5  6.0  128.0         6.18   \n",
              "\n",
              "   Primary_Cam  Selfi_Cam  Battery_Power  Price  \n",
              "0           48       13.0           4000  24999  \n",
              "1           48       12.0           4000  15999  \n",
              "2           64       16.0           4000  15000  \n",
              "3           48       15.0           3800  18999  \n",
              "4           35       15.0           3800  18999  "
            ],
            "text/html": [
              "\n",
              "  <div id=\"df-da8ae8b8-906b-43f3-a953-70f5d903a350\" class=\"colab-df-container\">\n",
              "    <div>\n",
              "<style scoped>\n",
              "    .dataframe tbody tr th:only-of-type {\n",
              "        vertical-align: middle;\n",
              "    }\n",
              "\n",
              "    .dataframe tbody tr th {\n",
              "        vertical-align: top;\n",
              "    }\n",
              "\n",
              "    .dataframe thead th {\n",
              "        text-align: right;\n",
              "    }\n",
              "</style>\n",
              "<table border=\"1\" class=\"dataframe\">\n",
              "  <thead>\n",
              "    <tr style=\"text-align: right;\">\n",
              "      <th></th>\n",
              "      <th>Brand me</th>\n",
              "      <th>Ratings</th>\n",
              "      <th>RAM</th>\n",
              "      <th>ROM</th>\n",
              "      <th>Mobile_Size</th>\n",
              "      <th>Primary_Cam</th>\n",
              "      <th>Selfi_Cam</th>\n",
              "      <th>Battery_Power</th>\n",
              "      <th>Price</th>\n",
              "    </tr>\n",
              "  </thead>\n",
              "  <tbody>\n",
              "    <tr>\n",
              "      <th>0</th>\n",
              "      <td>LG V30+ (Black, 128 )</td>\n",
              "      <td>4.3</td>\n",
              "      <td>4.0</td>\n",
              "      <td>128.0</td>\n",
              "      <td>6.00</td>\n",
              "      <td>48</td>\n",
              "      <td>13.0</td>\n",
              "      <td>4000</td>\n",
              "      <td>24999</td>\n",
              "    </tr>\n",
              "    <tr>\n",
              "      <th>1</th>\n",
              "      <td>I Kall K11</td>\n",
              "      <td>3.4</td>\n",
              "      <td>6.0</td>\n",
              "      <td>64.0</td>\n",
              "      <td>4.50</td>\n",
              "      <td>48</td>\n",
              "      <td>12.0</td>\n",
              "      <td>4000</td>\n",
              "      <td>15999</td>\n",
              "    </tr>\n",
              "    <tr>\n",
              "      <th>2</th>\n",
              "      <td>Nokia 105 ss</td>\n",
              "      <td>4.3</td>\n",
              "      <td>4.0</td>\n",
              "      <td>4.0</td>\n",
              "      <td>4.50</td>\n",
              "      <td>64</td>\n",
              "      <td>16.0</td>\n",
              "      <td>4000</td>\n",
              "      <td>15000</td>\n",
              "    </tr>\n",
              "    <tr>\n",
              "      <th>3</th>\n",
              "      <td>Samsung Galaxy A50 (White, 64 )</td>\n",
              "      <td>4.4</td>\n",
              "      <td>6.0</td>\n",
              "      <td>64.0</td>\n",
              "      <td>6.40</td>\n",
              "      <td>48</td>\n",
              "      <td>15.0</td>\n",
              "      <td>3800</td>\n",
              "      <td>18999</td>\n",
              "    </tr>\n",
              "    <tr>\n",
              "      <th>4</th>\n",
              "      <td>POCO F1 (Steel Blue, 128 )</td>\n",
              "      <td>4.5</td>\n",
              "      <td>6.0</td>\n",
              "      <td>128.0</td>\n",
              "      <td>6.18</td>\n",
              "      <td>35</td>\n",
              "      <td>15.0</td>\n",
              "      <td>3800</td>\n",
              "      <td>18999</td>\n",
              "    </tr>\n",
              "  </tbody>\n",
              "</table>\n",
              "</div>\n",
              "    <div class=\"colab-df-buttons\">\n",
              "\n",
              "  <div class=\"colab-df-container\">\n",
              "    <button class=\"colab-df-convert\" onclick=\"convertToInteractive('df-da8ae8b8-906b-43f3-a953-70f5d903a350')\"\n",
              "            title=\"Convert this dataframe to an interactive table.\"\n",
              "            style=\"display:none;\">\n",
              "\n",
              "  <svg xmlns=\"http://www.w3.org/2000/svg\" height=\"24px\" viewBox=\"0 -960 960 960\">\n",
              "    <path d=\"M120-120v-720h720v720H120Zm60-500h600v-160H180v160Zm220 220h160v-160H400v160Zm0 220h160v-160H400v160ZM180-400h160v-160H180v160Zm440 0h160v-160H620v160ZM180-180h160v-160H180v160Zm440 0h160v-160H620v160Z\"/>\n",
              "  </svg>\n",
              "    </button>\n",
              "\n",
              "  <style>\n",
              "    .colab-df-container {\n",
              "      display:flex;\n",
              "      gap: 12px;\n",
              "    }\n",
              "\n",
              "    .colab-df-convert {\n",
              "      background-color: #E8F0FE;\n",
              "      border: none;\n",
              "      border-radius: 50%;\n",
              "      cursor: pointer;\n",
              "      display: none;\n",
              "      fill: #1967D2;\n",
              "      height: 32px;\n",
              "      padding: 0 0 0 0;\n",
              "      width: 32px;\n",
              "    }\n",
              "\n",
              "    .colab-df-convert:hover {\n",
              "      background-color: #E2EBFA;\n",
              "      box-shadow: 0px 1px 2px rgba(60, 64, 67, 0.3), 0px 1px 3px 1px rgba(60, 64, 67, 0.15);\n",
              "      fill: #174EA6;\n",
              "    }\n",
              "\n",
              "    .colab-df-buttons div {\n",
              "      margin-bottom: 4px;\n",
              "    }\n",
              "\n",
              "    [theme=dark] .colab-df-convert {\n",
              "      background-color: #3B4455;\n",
              "      fill: #D2E3FC;\n",
              "    }\n",
              "\n",
              "    [theme=dark] .colab-df-convert:hover {\n",
              "      background-color: #434B5C;\n",
              "      box-shadow: 0px 1px 3px 1px rgba(0, 0, 0, 0.15);\n",
              "      filter: drop-shadow(0px 1px 2px rgba(0, 0, 0, 0.3));\n",
              "      fill: #FFFFFF;\n",
              "    }\n",
              "  </style>\n",
              "\n",
              "    <script>\n",
              "      const buttonEl =\n",
              "        document.querySelector('#df-da8ae8b8-906b-43f3-a953-70f5d903a350 button.colab-df-convert');\n",
              "      buttonEl.style.display =\n",
              "        google.colab.kernel.accessAllowed ? 'block' : 'none';\n",
              "\n",
              "      async function convertToInteractive(key) {\n",
              "        const element = document.querySelector('#df-da8ae8b8-906b-43f3-a953-70f5d903a350');\n",
              "        const dataTable =\n",
              "          await google.colab.kernel.invokeFunction('convertToInteractive',\n",
              "                                                    [key], {});\n",
              "        if (!dataTable) return;\n",
              "\n",
              "        const docLinkHtml = 'Like what you see? Visit the ' +\n",
              "          '<a target=\"_blank\" href=https://colab.research.google.com/notebooks/data_table.ipynb>data table notebook</a>'\n",
              "          + ' to learn more about interactive tables.';\n",
              "        element.innerHTML = '';\n",
              "        dataTable['output_type'] = 'display_data';\n",
              "        await google.colab.output.renderOutput(dataTable, element);\n",
              "        const docLink = document.createElement('div');\n",
              "        docLink.innerHTML = docLinkHtml;\n",
              "        element.appendChild(docLink);\n",
              "      }\n",
              "    </script>\n",
              "  </div>\n",
              "\n",
              "\n",
              "<div id=\"df-14f1c0c4-14e7-4cfa-9ead-afb3872993ef\">\n",
              "  <button class=\"colab-df-quickchart\" onclick=\"quickchart('df-14f1c0c4-14e7-4cfa-9ead-afb3872993ef')\"\n",
              "            title=\"Suggest charts\"\n",
              "            style=\"display:none;\">\n",
              "\n",
              "<svg xmlns=\"http://www.w3.org/2000/svg\" height=\"24px\"viewBox=\"0 0 24 24\"\n",
              "     width=\"24px\">\n",
              "    <g>\n",
              "        <path d=\"M19 3H5c-1.1 0-2 .9-2 2v14c0 1.1.9 2 2 2h14c1.1 0 2-.9 2-2V5c0-1.1-.9-2-2-2zM9 17H7v-7h2v7zm4 0h-2V7h2v10zm4 0h-2v-4h2v4z\"/>\n",
              "    </g>\n",
              "</svg>\n",
              "  </button>\n",
              "\n",
              "<style>\n",
              "  .colab-df-quickchart {\n",
              "      --bg-color: #E8F0FE;\n",
              "      --fill-color: #1967D2;\n",
              "      --hover-bg-color: #E2EBFA;\n",
              "      --hover-fill-color: #174EA6;\n",
              "      --disabled-fill-color: #AAA;\n",
              "      --disabled-bg-color: #DDD;\n",
              "  }\n",
              "\n",
              "  [theme=dark] .colab-df-quickchart {\n",
              "      --bg-color: #3B4455;\n",
              "      --fill-color: #D2E3FC;\n",
              "      --hover-bg-color: #434B5C;\n",
              "      --hover-fill-color: #FFFFFF;\n",
              "      --disabled-bg-color: #3B4455;\n",
              "      --disabled-fill-color: #666;\n",
              "  }\n",
              "\n",
              "  .colab-df-quickchart {\n",
              "    background-color: var(--bg-color);\n",
              "    border: none;\n",
              "    border-radius: 50%;\n",
              "    cursor: pointer;\n",
              "    display: none;\n",
              "    fill: var(--fill-color);\n",
              "    height: 32px;\n",
              "    padding: 0;\n",
              "    width: 32px;\n",
              "  }\n",
              "\n",
              "  .colab-df-quickchart:hover {\n",
              "    background-color: var(--hover-bg-color);\n",
              "    box-shadow: 0 1px 2px rgba(60, 64, 67, 0.3), 0 1px 3px 1px rgba(60, 64, 67, 0.15);\n",
              "    fill: var(--button-hover-fill-color);\n",
              "  }\n",
              "\n",
              "  .colab-df-quickchart-complete:disabled,\n",
              "  .colab-df-quickchart-complete:disabled:hover {\n",
              "    background-color: var(--disabled-bg-color);\n",
              "    fill: var(--disabled-fill-color);\n",
              "    box-shadow: none;\n",
              "  }\n",
              "\n",
              "  .colab-df-spinner {\n",
              "    border: 2px solid var(--fill-color);\n",
              "    border-color: transparent;\n",
              "    border-bottom-color: var(--fill-color);\n",
              "    animation:\n",
              "      spin 1s steps(1) infinite;\n",
              "  }\n",
              "\n",
              "  @keyframes spin {\n",
              "    0% {\n",
              "      border-color: transparent;\n",
              "      border-bottom-color: var(--fill-color);\n",
              "      border-left-color: var(--fill-color);\n",
              "    }\n",
              "    20% {\n",
              "      border-color: transparent;\n",
              "      border-left-color: var(--fill-color);\n",
              "      border-top-color: var(--fill-color);\n",
              "    }\n",
              "    30% {\n",
              "      border-color: transparent;\n",
              "      border-left-color: var(--fill-color);\n",
              "      border-top-color: var(--fill-color);\n",
              "      border-right-color: var(--fill-color);\n",
              "    }\n",
              "    40% {\n",
              "      border-color: transparent;\n",
              "      border-right-color: var(--fill-color);\n",
              "      border-top-color: var(--fill-color);\n",
              "    }\n",
              "    60% {\n",
              "      border-color: transparent;\n",
              "      border-right-color: var(--fill-color);\n",
              "    }\n",
              "    80% {\n",
              "      border-color: transparent;\n",
              "      border-right-color: var(--fill-color);\n",
              "      border-bottom-color: var(--fill-color);\n",
              "    }\n",
              "    90% {\n",
              "      border-color: transparent;\n",
              "      border-bottom-color: var(--fill-color);\n",
              "    }\n",
              "  }\n",
              "</style>\n",
              "\n",
              "  <script>\n",
              "    async function quickchart(key) {\n",
              "      const quickchartButtonEl =\n",
              "        document.querySelector('#' + key + ' button');\n",
              "      quickchartButtonEl.disabled = true;  // To prevent multiple clicks.\n",
              "      quickchartButtonEl.classList.add('colab-df-spinner');\n",
              "      try {\n",
              "        const charts = await google.colab.kernel.invokeFunction(\n",
              "            'suggestCharts', [key], {});\n",
              "      } catch (error) {\n",
              "        console.error('Error during call to suggestCharts:', error);\n",
              "      }\n",
              "      quickchartButtonEl.classList.remove('colab-df-spinner');\n",
              "      quickchartButtonEl.classList.add('colab-df-quickchart-complete');\n",
              "    }\n",
              "    (() => {\n",
              "      let quickchartButtonEl =\n",
              "        document.querySelector('#df-14f1c0c4-14e7-4cfa-9ead-afb3872993ef button');\n",
              "      quickchartButtonEl.style.display =\n",
              "        google.colab.kernel.accessAllowed ? 'block' : 'none';\n",
              "    })();\n",
              "  </script>\n",
              "</div>\n",
              "\n",
              "    </div>\n",
              "  </div>\n"
            ],
            "application/vnd.google.colaboratory.intrinsic+json": {
              "type": "dataframe",
              "variable_name": "data",
              "summary": "{\n  \"name\": \"data\",\n  \"rows\": 836,\n  \"fields\": [\n    {\n      \"column\": \"Brand me\",\n      \"properties\": {\n        \"dtype\": \"string\",\n        \"num_unique_values\": 427,\n        \"samples\": [\n          \"OnePlus 7 (Mirror Grey, 256 )\",\n          \"Redmi Note 7 Pro (Neptune Blue, 128 )\",\n          \"Vivo V17Pro (Glacier Ice White, 128 )\"\n        ],\n        \"semantic_type\": \"\",\n        \"description\": \"\"\n      }\n    },\n    {\n      \"column\": \"Ratings\",\n      \"properties\": {\n        \"dtype\": \"number\",\n        \"std\": 0.3653564946598119,\n        \"min\": 2.8,\n        \"max\": 4.8,\n        \"num_unique_values\": 20,\n        \"samples\": [\n          4.3,\n          3.1,\n          3.3\n        ],\n        \"semantic_type\": \"\",\n        \"description\": \"\"\n      }\n    },\n    {\n      \"column\": \"RAM\",\n      \"properties\": {\n        \"dtype\": \"number\",\n        \"std\": 2.5303355225505064,\n        \"min\": 0.0,\n        \"max\": 34.0,\n        \"num_unique_values\": 13,\n        \"samples\": [\n          30.0,\n          25.0,\n          4.0\n        ],\n        \"semantic_type\": \"\",\n        \"description\": \"\"\n      }\n    },\n    {\n      \"column\": \"ROM\",\n      \"properties\": {\n        \"dtype\": \"number\",\n        \"std\": 53.447824878694796,\n        \"min\": 0.0,\n        \"max\": 256.0,\n        \"num_unique_values\": 22,\n        \"samples\": [\n          128.0,\n          22.0,\n          56.0\n        ],\n        \"semantic_type\": \"\",\n        \"description\": \"\"\n      }\n    },\n    {\n      \"column\": \"Mobile_Size\",\n      \"properties\": {\n        \"dtype\": \"number\",\n        \"std\": 3.8986644597820286,\n        \"min\": 2.0,\n        \"max\": 44.0,\n        \"num_unique_values\": 47,\n        \"samples\": [\n          4.57,\n          6.6,\n          4.58\n        ],\n        \"semantic_type\": \"\",\n        \"description\": \"\"\n      }\n    },\n    {\n      \"column\": \"Primary_Cam\",\n      \"properties\": {\n        \"dtype\": \"number\",\n        \"std\": 11,\n        \"min\": 5,\n        \"max\": 64,\n        \"num_unique_values\": 11,\n        \"samples\": [\n          25,\n          48,\n          16\n        ],\n        \"semantic_type\": \"\",\n        \"description\": \"\"\n      }\n    },\n    {\n      \"column\": \"Selfi_Cam\",\n      \"properties\": {\n        \"dtype\": \"number\",\n        \"std\": 6.503838165404479,\n        \"min\": 0.0,\n        \"max\": 61.0,\n        \"num_unique_values\": 23,\n        \"samples\": [\n          17.0,\n          32.0,\n          13.0\n        ],\n        \"semantic_type\": \"\",\n        \"description\": \"\"\n      }\n    },\n    {\n      \"column\": \"Battery_Power\",\n      \"properties\": {\n        \"dtype\": \"number\",\n        \"std\": 927,\n        \"min\": 1020,\n        \"max\": 6000,\n        \"num_unique_values\": 49,\n        \"samples\": [\n          4010,\n          3400,\n          4780\n        ],\n        \"semantic_type\": \"\",\n        \"description\": \"\"\n      }\n    },\n    {\n      \"column\": \"Price\",\n      \"properties\": {\n        \"dtype\": \"number\",\n        \"std\": 52805,\n        \"min\": 479,\n        \"max\": 573000,\n        \"num_unique_values\": 253,\n        \"samples\": [\n          1619,\n          47999,\n          559\n        ],\n        \"semantic_type\": \"\",\n        \"description\": \"\"\n      }\n    }\n  ]\n}"
            }
          },
          "metadata": {},
          "execution_count": 6
        }
      ],
      "source": [
        "data.head()"
      ]
    },
    {
      "cell_type": "code",
      "execution_count": null,
      "metadata": {
        "colab": {
          "base_uri": "https://localhost:8080/"
        },
        "id": "6ajSuPdyst05",
        "outputId": "048da38b-4098-499f-ea2e-34545a721566"
      },
      "outputs": [
        {
          "output_type": "stream",
          "name": "stdout",
          "text": [
            "<class 'pandas.core.frame.DataFrame'>\n",
            "RangeIndex: 836 entries, 0 to 835\n",
            "Data columns (total 9 columns):\n",
            " #   Column         Non-Null Count  Dtype  \n",
            "---  ------         --------------  -----  \n",
            " 0   Brand me       836 non-null    object \n",
            " 1   Ratings        805 non-null    float64\n",
            " 2   RAM            829 non-null    float64\n",
            " 3   ROM            832 non-null    float64\n",
            " 4   Mobile_Size    834 non-null    float64\n",
            " 5   Primary_Cam    836 non-null    int64  \n",
            " 6   Selfi_Cam      567 non-null    float64\n",
            " 7   Battery_Power  836 non-null    int64  \n",
            " 8   Price          836 non-null    int64  \n",
            "dtypes: float64(5), int64(3), object(1)\n",
            "memory usage: 58.9+ KB\n"
          ]
        }
      ],
      "source": [
        "data.info()"
      ]
    },
    {
      "cell_type": "code",
      "execution_count": null,
      "metadata": {
        "colab": {
          "base_uri": "https://localhost:8080/",
          "height": 366
        },
        "id": "mZOaGK9Qrzek",
        "outputId": "4e177d12-f5ae-40fc-c878-de639efe5e81"
      },
      "outputs": [
        {
          "output_type": "execute_result",
          "data": {
            "text/plain": [
              "Brand me           0\n",
              "Ratings           31\n",
              "RAM                7\n",
              "ROM                4\n",
              "Mobile_Size        2\n",
              "Primary_Cam        0\n",
              "Selfi_Cam        269\n",
              "Battery_Power      0\n",
              "Price              0\n",
              "dtype: int64"
            ],
            "text/html": [
              "<div>\n",
              "<style scoped>\n",
              "    .dataframe tbody tr th:only-of-type {\n",
              "        vertical-align: middle;\n",
              "    }\n",
              "\n",
              "    .dataframe tbody tr th {\n",
              "        vertical-align: top;\n",
              "    }\n",
              "\n",
              "    .dataframe thead th {\n",
              "        text-align: right;\n",
              "    }\n",
              "</style>\n",
              "<table border=\"1\" class=\"dataframe\">\n",
              "  <thead>\n",
              "    <tr style=\"text-align: right;\">\n",
              "      <th></th>\n",
              "      <th>0</th>\n",
              "    </tr>\n",
              "  </thead>\n",
              "  <tbody>\n",
              "    <tr>\n",
              "      <th>Brand me</th>\n",
              "      <td>0</td>\n",
              "    </tr>\n",
              "    <tr>\n",
              "      <th>Ratings</th>\n",
              "      <td>31</td>\n",
              "    </tr>\n",
              "    <tr>\n",
              "      <th>RAM</th>\n",
              "      <td>7</td>\n",
              "    </tr>\n",
              "    <tr>\n",
              "      <th>ROM</th>\n",
              "      <td>4</td>\n",
              "    </tr>\n",
              "    <tr>\n",
              "      <th>Mobile_Size</th>\n",
              "      <td>2</td>\n",
              "    </tr>\n",
              "    <tr>\n",
              "      <th>Primary_Cam</th>\n",
              "      <td>0</td>\n",
              "    </tr>\n",
              "    <tr>\n",
              "      <th>Selfi_Cam</th>\n",
              "      <td>269</td>\n",
              "    </tr>\n",
              "    <tr>\n",
              "      <th>Battery_Power</th>\n",
              "      <td>0</td>\n",
              "    </tr>\n",
              "    <tr>\n",
              "      <th>Price</th>\n",
              "      <td>0</td>\n",
              "    </tr>\n",
              "  </tbody>\n",
              "</table>\n",
              "</div><br><label><b>dtype:</b> int64</label>"
            ]
          },
          "metadata": {},
          "execution_count": 8
        }
      ],
      "source": [
        "data.isnull().sum()"
      ]
    },
    {
      "cell_type": "code",
      "execution_count": null,
      "metadata": {
        "id": "Oq_hPbpivDDx"
      },
      "outputs": [],
      "source": [
        "X = data.drop('Price',axis=1)\n",
        "y = data['Price']"
      ]
    },
    {
      "cell_type": "code",
      "execution_count": null,
      "metadata": {
        "colab": {
          "base_uri": "https://localhost:8080/",
          "height": 424
        },
        "id": "lnqNs9VNvTwJ",
        "outputId": "e8d2bcb7-b514-4ae0-eb42-08409b1aa663"
      },
      "outputs": [
        {
          "output_type": "execute_result",
          "data": {
            "text/plain": [
              "                            Brand me  Ratings   RAM    ROM  Mobile_Size  \\\n",
              "0              LG V30+ (Black, 128 )      4.3   4.0  128.0         6.00   \n",
              "1                         I Kall K11      3.4   6.0   64.0         4.50   \n",
              "2                       Nokia 105 ss      4.3   4.0    4.0         4.50   \n",
              "3    Samsung Galaxy A50 (White, 64 )      4.4   6.0   64.0         6.40   \n",
              "4         POCO F1 (Steel Blue, 128 )      4.5   6.0  128.0         6.18   \n",
              "..                               ...      ...   ...    ...          ...   \n",
              "831             Karbonn K24 Plus Pro      3.8   6.0   32.0         4.54   \n",
              "832                  InFocus POWER 2      4.1   8.0   64.0         4.54   \n",
              "833  Alcatel 5V (Spectrum Blue, 32 )      4.4   3.0   32.0         6.20   \n",
              "834                      JIVI JV 12M      3.7  10.0   32.0         4.50   \n",
              "835                  Blacear B5 Grip      3.5   6.0   32.0         4.50   \n",
              "\n",
              "     Primary_Cam  Selfi_Cam  Battery_Power  \n",
              "0             48       13.0           4000  \n",
              "1             48       12.0           4000  \n",
              "2             64       16.0           4000  \n",
              "3             48       15.0           3800  \n",
              "4             35       15.0           3800  \n",
              "..           ...        ...            ...  \n",
              "831           48       12.0           2800  \n",
              "832           64        NaN           2500  \n",
              "833           48        1.0           3800  \n",
              "834           64        NaN           3500  \n",
              "835           64       15.0           1050  \n",
              "\n",
              "[836 rows x 8 columns]"
            ],
            "text/html": [
              "\n",
              "  <div id=\"df-e045a7f8-bb45-41dc-b6ae-268996e8142e\" class=\"colab-df-container\">\n",
              "    <div>\n",
              "<style scoped>\n",
              "    .dataframe tbody tr th:only-of-type {\n",
              "        vertical-align: middle;\n",
              "    }\n",
              "\n",
              "    .dataframe tbody tr th {\n",
              "        vertical-align: top;\n",
              "    }\n",
              "\n",
              "    .dataframe thead th {\n",
              "        text-align: right;\n",
              "    }\n",
              "</style>\n",
              "<table border=\"1\" class=\"dataframe\">\n",
              "  <thead>\n",
              "    <tr style=\"text-align: right;\">\n",
              "      <th></th>\n",
              "      <th>Brand me</th>\n",
              "      <th>Ratings</th>\n",
              "      <th>RAM</th>\n",
              "      <th>ROM</th>\n",
              "      <th>Mobile_Size</th>\n",
              "      <th>Primary_Cam</th>\n",
              "      <th>Selfi_Cam</th>\n",
              "      <th>Battery_Power</th>\n",
              "    </tr>\n",
              "  </thead>\n",
              "  <tbody>\n",
              "    <tr>\n",
              "      <th>0</th>\n",
              "      <td>LG V30+ (Black, 128 )</td>\n",
              "      <td>4.3</td>\n",
              "      <td>4.0</td>\n",
              "      <td>128.0</td>\n",
              "      <td>6.00</td>\n",
              "      <td>48</td>\n",
              "      <td>13.0</td>\n",
              "      <td>4000</td>\n",
              "    </tr>\n",
              "    <tr>\n",
              "      <th>1</th>\n",
              "      <td>I Kall K11</td>\n",
              "      <td>3.4</td>\n",
              "      <td>6.0</td>\n",
              "      <td>64.0</td>\n",
              "      <td>4.50</td>\n",
              "      <td>48</td>\n",
              "      <td>12.0</td>\n",
              "      <td>4000</td>\n",
              "    </tr>\n",
              "    <tr>\n",
              "      <th>2</th>\n",
              "      <td>Nokia 105 ss</td>\n",
              "      <td>4.3</td>\n",
              "      <td>4.0</td>\n",
              "      <td>4.0</td>\n",
              "      <td>4.50</td>\n",
              "      <td>64</td>\n",
              "      <td>16.0</td>\n",
              "      <td>4000</td>\n",
              "    </tr>\n",
              "    <tr>\n",
              "      <th>3</th>\n",
              "      <td>Samsung Galaxy A50 (White, 64 )</td>\n",
              "      <td>4.4</td>\n",
              "      <td>6.0</td>\n",
              "      <td>64.0</td>\n",
              "      <td>6.40</td>\n",
              "      <td>48</td>\n",
              "      <td>15.0</td>\n",
              "      <td>3800</td>\n",
              "    </tr>\n",
              "    <tr>\n",
              "      <th>4</th>\n",
              "      <td>POCO F1 (Steel Blue, 128 )</td>\n",
              "      <td>4.5</td>\n",
              "      <td>6.0</td>\n",
              "      <td>128.0</td>\n",
              "      <td>6.18</td>\n",
              "      <td>35</td>\n",
              "      <td>15.0</td>\n",
              "      <td>3800</td>\n",
              "    </tr>\n",
              "    <tr>\n",
              "      <th>...</th>\n",
              "      <td>...</td>\n",
              "      <td>...</td>\n",
              "      <td>...</td>\n",
              "      <td>...</td>\n",
              "      <td>...</td>\n",
              "      <td>...</td>\n",
              "      <td>...</td>\n",
              "      <td>...</td>\n",
              "    </tr>\n",
              "    <tr>\n",
              "      <th>831</th>\n",
              "      <td>Karbonn K24 Plus Pro</td>\n",
              "      <td>3.8</td>\n",
              "      <td>6.0</td>\n",
              "      <td>32.0</td>\n",
              "      <td>4.54</td>\n",
              "      <td>48</td>\n",
              "      <td>12.0</td>\n",
              "      <td>2800</td>\n",
              "    </tr>\n",
              "    <tr>\n",
              "      <th>832</th>\n",
              "      <td>InFocus POWER 2</td>\n",
              "      <td>4.1</td>\n",
              "      <td>8.0</td>\n",
              "      <td>64.0</td>\n",
              "      <td>4.54</td>\n",
              "      <td>64</td>\n",
              "      <td>NaN</td>\n",
              "      <td>2500</td>\n",
              "    </tr>\n",
              "    <tr>\n",
              "      <th>833</th>\n",
              "      <td>Alcatel 5V (Spectrum Blue, 32 )</td>\n",
              "      <td>4.4</td>\n",
              "      <td>3.0</td>\n",
              "      <td>32.0</td>\n",
              "      <td>6.20</td>\n",
              "      <td>48</td>\n",
              "      <td>1.0</td>\n",
              "      <td>3800</td>\n",
              "    </tr>\n",
              "    <tr>\n",
              "      <th>834</th>\n",
              "      <td>JIVI JV 12M</td>\n",
              "      <td>3.7</td>\n",
              "      <td>10.0</td>\n",
              "      <td>32.0</td>\n",
              "      <td>4.50</td>\n",
              "      <td>64</td>\n",
              "      <td>NaN</td>\n",
              "      <td>3500</td>\n",
              "    </tr>\n",
              "    <tr>\n",
              "      <th>835</th>\n",
              "      <td>Blacear B5 Grip</td>\n",
              "      <td>3.5</td>\n",
              "      <td>6.0</td>\n",
              "      <td>32.0</td>\n",
              "      <td>4.50</td>\n",
              "      <td>64</td>\n",
              "      <td>15.0</td>\n",
              "      <td>1050</td>\n",
              "    </tr>\n",
              "  </tbody>\n",
              "</table>\n",
              "<p>836 rows × 8 columns</p>\n",
              "</div>\n",
              "    <div class=\"colab-df-buttons\">\n",
              "\n",
              "  <div class=\"colab-df-container\">\n",
              "    <button class=\"colab-df-convert\" onclick=\"convertToInteractive('df-e045a7f8-bb45-41dc-b6ae-268996e8142e')\"\n",
              "            title=\"Convert this dataframe to an interactive table.\"\n",
              "            style=\"display:none;\">\n",
              "\n",
              "  <svg xmlns=\"http://www.w3.org/2000/svg\" height=\"24px\" viewBox=\"0 -960 960 960\">\n",
              "    <path d=\"M120-120v-720h720v720H120Zm60-500h600v-160H180v160Zm220 220h160v-160H400v160Zm0 220h160v-160H400v160ZM180-400h160v-160H180v160Zm440 0h160v-160H620v160ZM180-180h160v-160H180v160Zm440 0h160v-160H620v160Z\"/>\n",
              "  </svg>\n",
              "    </button>\n",
              "\n",
              "  <style>\n",
              "    .colab-df-container {\n",
              "      display:flex;\n",
              "      gap: 12px;\n",
              "    }\n",
              "\n",
              "    .colab-df-convert {\n",
              "      background-color: #E8F0FE;\n",
              "      border: none;\n",
              "      border-radius: 50%;\n",
              "      cursor: pointer;\n",
              "      display: none;\n",
              "      fill: #1967D2;\n",
              "      height: 32px;\n",
              "      padding: 0 0 0 0;\n",
              "      width: 32px;\n",
              "    }\n",
              "\n",
              "    .colab-df-convert:hover {\n",
              "      background-color: #E2EBFA;\n",
              "      box-shadow: 0px 1px 2px rgba(60, 64, 67, 0.3), 0px 1px 3px 1px rgba(60, 64, 67, 0.15);\n",
              "      fill: #174EA6;\n",
              "    }\n",
              "\n",
              "    .colab-df-buttons div {\n",
              "      margin-bottom: 4px;\n",
              "    }\n",
              "\n",
              "    [theme=dark] .colab-df-convert {\n",
              "      background-color: #3B4455;\n",
              "      fill: #D2E3FC;\n",
              "    }\n",
              "\n",
              "    [theme=dark] .colab-df-convert:hover {\n",
              "      background-color: #434B5C;\n",
              "      box-shadow: 0px 1px 3px 1px rgba(0, 0, 0, 0.15);\n",
              "      filter: drop-shadow(0px 1px 2px rgba(0, 0, 0, 0.3));\n",
              "      fill: #FFFFFF;\n",
              "    }\n",
              "  </style>\n",
              "\n",
              "    <script>\n",
              "      const buttonEl =\n",
              "        document.querySelector('#df-e045a7f8-bb45-41dc-b6ae-268996e8142e button.colab-df-convert');\n",
              "      buttonEl.style.display =\n",
              "        google.colab.kernel.accessAllowed ? 'block' : 'none';\n",
              "\n",
              "      async function convertToInteractive(key) {\n",
              "        const element = document.querySelector('#df-e045a7f8-bb45-41dc-b6ae-268996e8142e');\n",
              "        const dataTable =\n",
              "          await google.colab.kernel.invokeFunction('convertToInteractive',\n",
              "                                                    [key], {});\n",
              "        if (!dataTable) return;\n",
              "\n",
              "        const docLinkHtml = 'Like what you see? Visit the ' +\n",
              "          '<a target=\"_blank\" href=https://colab.research.google.com/notebooks/data_table.ipynb>data table notebook</a>'\n",
              "          + ' to learn more about interactive tables.';\n",
              "        element.innerHTML = '';\n",
              "        dataTable['output_type'] = 'display_data';\n",
              "        await google.colab.output.renderOutput(dataTable, element);\n",
              "        const docLink = document.createElement('div');\n",
              "        docLink.innerHTML = docLinkHtml;\n",
              "        element.appendChild(docLink);\n",
              "      }\n",
              "    </script>\n",
              "  </div>\n",
              "\n",
              "\n",
              "<div id=\"df-432c03b3-38ce-4920-b54d-15f3637ec2a9\">\n",
              "  <button class=\"colab-df-quickchart\" onclick=\"quickchart('df-432c03b3-38ce-4920-b54d-15f3637ec2a9')\"\n",
              "            title=\"Suggest charts\"\n",
              "            style=\"display:none;\">\n",
              "\n",
              "<svg xmlns=\"http://www.w3.org/2000/svg\" height=\"24px\"viewBox=\"0 0 24 24\"\n",
              "     width=\"24px\">\n",
              "    <g>\n",
              "        <path d=\"M19 3H5c-1.1 0-2 .9-2 2v14c0 1.1.9 2 2 2h14c1.1 0 2-.9 2-2V5c0-1.1-.9-2-2-2zM9 17H7v-7h2v7zm4 0h-2V7h2v10zm4 0h-2v-4h2v4z\"/>\n",
              "    </g>\n",
              "</svg>\n",
              "  </button>\n",
              "\n",
              "<style>\n",
              "  .colab-df-quickchart {\n",
              "      --bg-color: #E8F0FE;\n",
              "      --fill-color: #1967D2;\n",
              "      --hover-bg-color: #E2EBFA;\n",
              "      --hover-fill-color: #174EA6;\n",
              "      --disabled-fill-color: #AAA;\n",
              "      --disabled-bg-color: #DDD;\n",
              "  }\n",
              "\n",
              "  [theme=dark] .colab-df-quickchart {\n",
              "      --bg-color: #3B4455;\n",
              "      --fill-color: #D2E3FC;\n",
              "      --hover-bg-color: #434B5C;\n",
              "      --hover-fill-color: #FFFFFF;\n",
              "      --disabled-bg-color: #3B4455;\n",
              "      --disabled-fill-color: #666;\n",
              "  }\n",
              "\n",
              "  .colab-df-quickchart {\n",
              "    background-color: var(--bg-color);\n",
              "    border: none;\n",
              "    border-radius: 50%;\n",
              "    cursor: pointer;\n",
              "    display: none;\n",
              "    fill: var(--fill-color);\n",
              "    height: 32px;\n",
              "    padding: 0;\n",
              "    width: 32px;\n",
              "  }\n",
              "\n",
              "  .colab-df-quickchart:hover {\n",
              "    background-color: var(--hover-bg-color);\n",
              "    box-shadow: 0 1px 2px rgba(60, 64, 67, 0.3), 0 1px 3px 1px rgba(60, 64, 67, 0.15);\n",
              "    fill: var(--button-hover-fill-color);\n",
              "  }\n",
              "\n",
              "  .colab-df-quickchart-complete:disabled,\n",
              "  .colab-df-quickchart-complete:disabled:hover {\n",
              "    background-color: var(--disabled-bg-color);\n",
              "    fill: var(--disabled-fill-color);\n",
              "    box-shadow: none;\n",
              "  }\n",
              "\n",
              "  .colab-df-spinner {\n",
              "    border: 2px solid var(--fill-color);\n",
              "    border-color: transparent;\n",
              "    border-bottom-color: var(--fill-color);\n",
              "    animation:\n",
              "      spin 1s steps(1) infinite;\n",
              "  }\n",
              "\n",
              "  @keyframes spin {\n",
              "    0% {\n",
              "      border-color: transparent;\n",
              "      border-bottom-color: var(--fill-color);\n",
              "      border-left-color: var(--fill-color);\n",
              "    }\n",
              "    20% {\n",
              "      border-color: transparent;\n",
              "      border-left-color: var(--fill-color);\n",
              "      border-top-color: var(--fill-color);\n",
              "    }\n",
              "    30% {\n",
              "      border-color: transparent;\n",
              "      border-left-color: var(--fill-color);\n",
              "      border-top-color: var(--fill-color);\n",
              "      border-right-color: var(--fill-color);\n",
              "    }\n",
              "    40% {\n",
              "      border-color: transparent;\n",
              "      border-right-color: var(--fill-color);\n",
              "      border-top-color: var(--fill-color);\n",
              "    }\n",
              "    60% {\n",
              "      border-color: transparent;\n",
              "      border-right-color: var(--fill-color);\n",
              "    }\n",
              "    80% {\n",
              "      border-color: transparent;\n",
              "      border-right-color: var(--fill-color);\n",
              "      border-bottom-color: var(--fill-color);\n",
              "    }\n",
              "    90% {\n",
              "      border-color: transparent;\n",
              "      border-bottom-color: var(--fill-color);\n",
              "    }\n",
              "  }\n",
              "</style>\n",
              "\n",
              "  <script>\n",
              "    async function quickchart(key) {\n",
              "      const quickchartButtonEl =\n",
              "        document.querySelector('#' + key + ' button');\n",
              "      quickchartButtonEl.disabled = true;  // To prevent multiple clicks.\n",
              "      quickchartButtonEl.classList.add('colab-df-spinner');\n",
              "      try {\n",
              "        const charts = await google.colab.kernel.invokeFunction(\n",
              "            'suggestCharts', [key], {});\n",
              "      } catch (error) {\n",
              "        console.error('Error during call to suggestCharts:', error);\n",
              "      }\n",
              "      quickchartButtonEl.classList.remove('colab-df-spinner');\n",
              "      quickchartButtonEl.classList.add('colab-df-quickchart-complete');\n",
              "    }\n",
              "    (() => {\n",
              "      let quickchartButtonEl =\n",
              "        document.querySelector('#df-432c03b3-38ce-4920-b54d-15f3637ec2a9 button');\n",
              "      quickchartButtonEl.style.display =\n",
              "        google.colab.kernel.accessAllowed ? 'block' : 'none';\n",
              "    })();\n",
              "  </script>\n",
              "</div>\n",
              "\n",
              "  <div id=\"id_b85c3f0c-e681-44a5-a454-b514d79c5e30\">\n",
              "    <style>\n",
              "      .colab-df-generate {\n",
              "        background-color: #E8F0FE;\n",
              "        border: none;\n",
              "        border-radius: 50%;\n",
              "        cursor: pointer;\n",
              "        display: none;\n",
              "        fill: #1967D2;\n",
              "        height: 32px;\n",
              "        padding: 0 0 0 0;\n",
              "        width: 32px;\n",
              "      }\n",
              "\n",
              "      .colab-df-generate:hover {\n",
              "        background-color: #E2EBFA;\n",
              "        box-shadow: 0px 1px 2px rgba(60, 64, 67, 0.3), 0px 1px 3px 1px rgba(60, 64, 67, 0.15);\n",
              "        fill: #174EA6;\n",
              "      }\n",
              "\n",
              "      [theme=dark] .colab-df-generate {\n",
              "        background-color: #3B4455;\n",
              "        fill: #D2E3FC;\n",
              "      }\n",
              "\n",
              "      [theme=dark] .colab-df-generate:hover {\n",
              "        background-color: #434B5C;\n",
              "        box-shadow: 0px 1px 3px 1px rgba(0, 0, 0, 0.15);\n",
              "        filter: drop-shadow(0px 1px 2px rgba(0, 0, 0, 0.3));\n",
              "        fill: #FFFFFF;\n",
              "      }\n",
              "    </style>\n",
              "    <button class=\"colab-df-generate\" onclick=\"generateWithVariable('X')\"\n",
              "            title=\"Generate code using this dataframe.\"\n",
              "            style=\"display:none;\">\n",
              "\n",
              "  <svg xmlns=\"http://www.w3.org/2000/svg\" height=\"24px\"viewBox=\"0 0 24 24\"\n",
              "       width=\"24px\">\n",
              "    <path d=\"M7,19H8.4L18.45,9,17,7.55,7,17.6ZM5,21V16.75L18.45,3.32a2,2,0,0,1,2.83,0l1.4,1.43a1.91,1.91,0,0,1,.58,1.4,1.91,1.91,0,0,1-.58,1.4L9.25,21ZM18.45,9,17,7.55Zm-12,3A5.31,5.31,0,0,0,4.9,8.1,5.31,5.31,0,0,0,1,6.5,5.31,5.31,0,0,0,4.9,4.9,5.31,5.31,0,0,0,6.5,1,5.31,5.31,0,0,0,8.1,4.9,5.31,5.31,0,0,0,12,6.5,5.46,5.46,0,0,0,6.5,12Z\"/>\n",
              "  </svg>\n",
              "    </button>\n",
              "    <script>\n",
              "      (() => {\n",
              "      const buttonEl =\n",
              "        document.querySelector('#id_b85c3f0c-e681-44a5-a454-b514d79c5e30 button.colab-df-generate');\n",
              "      buttonEl.style.display =\n",
              "        google.colab.kernel.accessAllowed ? 'block' : 'none';\n",
              "\n",
              "      buttonEl.onclick = () => {\n",
              "        google.colab.notebook.generateWithVariable('X');\n",
              "      }\n",
              "      })();\n",
              "    </script>\n",
              "  </div>\n",
              "\n",
              "    </div>\n",
              "  </div>\n"
            ],
            "application/vnd.google.colaboratory.intrinsic+json": {
              "type": "dataframe",
              "variable_name": "X",
              "summary": "{\n  \"name\": \"X\",\n  \"rows\": 836,\n  \"fields\": [\n    {\n      \"column\": \"Brand me\",\n      \"properties\": {\n        \"dtype\": \"string\",\n        \"num_unique_values\": 427,\n        \"samples\": [\n          \"OnePlus 7 (Mirror Grey, 256 )\",\n          \"Redmi Note 7 Pro (Neptune Blue, 128 )\",\n          \"Vivo V17Pro (Glacier Ice White, 128 )\"\n        ],\n        \"semantic_type\": \"\",\n        \"description\": \"\"\n      }\n    },\n    {\n      \"column\": \"Ratings\",\n      \"properties\": {\n        \"dtype\": \"number\",\n        \"std\": 0.3653564946598119,\n        \"min\": 2.8,\n        \"max\": 4.8,\n        \"num_unique_values\": 20,\n        \"samples\": [\n          4.3,\n          3.1,\n          3.3\n        ],\n        \"semantic_type\": \"\",\n        \"description\": \"\"\n      }\n    },\n    {\n      \"column\": \"RAM\",\n      \"properties\": {\n        \"dtype\": \"number\",\n        \"std\": 2.5303355225505064,\n        \"min\": 0.0,\n        \"max\": 34.0,\n        \"num_unique_values\": 13,\n        \"samples\": [\n          30.0,\n          25.0,\n          4.0\n        ],\n        \"semantic_type\": \"\",\n        \"description\": \"\"\n      }\n    },\n    {\n      \"column\": \"ROM\",\n      \"properties\": {\n        \"dtype\": \"number\",\n        \"std\": 53.447824878694796,\n        \"min\": 0.0,\n        \"max\": 256.0,\n        \"num_unique_values\": 22,\n        \"samples\": [\n          128.0,\n          22.0,\n          56.0\n        ],\n        \"semantic_type\": \"\",\n        \"description\": \"\"\n      }\n    },\n    {\n      \"column\": \"Mobile_Size\",\n      \"properties\": {\n        \"dtype\": \"number\",\n        \"std\": 3.8986644597820286,\n        \"min\": 2.0,\n        \"max\": 44.0,\n        \"num_unique_values\": 47,\n        \"samples\": [\n          4.57,\n          6.6,\n          4.58\n        ],\n        \"semantic_type\": \"\",\n        \"description\": \"\"\n      }\n    },\n    {\n      \"column\": \"Primary_Cam\",\n      \"properties\": {\n        \"dtype\": \"number\",\n        \"std\": 11,\n        \"min\": 5,\n        \"max\": 64,\n        \"num_unique_values\": 11,\n        \"samples\": [\n          25,\n          48,\n          16\n        ],\n        \"semantic_type\": \"\",\n        \"description\": \"\"\n      }\n    },\n    {\n      \"column\": \"Selfi_Cam\",\n      \"properties\": {\n        \"dtype\": \"number\",\n        \"std\": 6.503838165404479,\n        \"min\": 0.0,\n        \"max\": 61.0,\n        \"num_unique_values\": 23,\n        \"samples\": [\n          17.0,\n          32.0,\n          13.0\n        ],\n        \"semantic_type\": \"\",\n        \"description\": \"\"\n      }\n    },\n    {\n      \"column\": \"Battery_Power\",\n      \"properties\": {\n        \"dtype\": \"number\",\n        \"std\": 927,\n        \"min\": 1020,\n        \"max\": 6000,\n        \"num_unique_values\": 49,\n        \"samples\": [\n          4010,\n          3400,\n          4780\n        ],\n        \"semantic_type\": \"\",\n        \"description\": \"\"\n      }\n    }\n  ]\n}"
            }
          },
          "metadata": {},
          "execution_count": 10
        }
      ],
      "source": [
        "X"
      ]
    },
    {
      "cell_type": "code",
      "execution_count": null,
      "metadata": {
        "colab": {
          "base_uri": "https://localhost:8080/",
          "height": 458
        },
        "id": "vMUB2i7GvWYX",
        "outputId": "ee75175e-d2ef-4c50-a844-312e41a6c900"
      },
      "outputs": [
        {
          "output_type": "execute_result",
          "data": {
            "text/plain": [
              "0      24999\n",
              "1      15999\n",
              "2      15000\n",
              "3      18999\n",
              "4      18999\n",
              "       ...  \n",
              "831     1299\n",
              "832     1390\n",
              "833     9790\n",
              "834      799\n",
              "835      799\n",
              "Name: Price, Length: 836, dtype: int64"
            ],
            "text/html": [
              "<div>\n",
              "<style scoped>\n",
              "    .dataframe tbody tr th:only-of-type {\n",
              "        vertical-align: middle;\n",
              "    }\n",
              "\n",
              "    .dataframe tbody tr th {\n",
              "        vertical-align: top;\n",
              "    }\n",
              "\n",
              "    .dataframe thead th {\n",
              "        text-align: right;\n",
              "    }\n",
              "</style>\n",
              "<table border=\"1\" class=\"dataframe\">\n",
              "  <thead>\n",
              "    <tr style=\"text-align: right;\">\n",
              "      <th></th>\n",
              "      <th>Price</th>\n",
              "    </tr>\n",
              "  </thead>\n",
              "  <tbody>\n",
              "    <tr>\n",
              "      <th>0</th>\n",
              "      <td>24999</td>\n",
              "    </tr>\n",
              "    <tr>\n",
              "      <th>1</th>\n",
              "      <td>15999</td>\n",
              "    </tr>\n",
              "    <tr>\n",
              "      <th>2</th>\n",
              "      <td>15000</td>\n",
              "    </tr>\n",
              "    <tr>\n",
              "      <th>3</th>\n",
              "      <td>18999</td>\n",
              "    </tr>\n",
              "    <tr>\n",
              "      <th>4</th>\n",
              "      <td>18999</td>\n",
              "    </tr>\n",
              "    <tr>\n",
              "      <th>...</th>\n",
              "      <td>...</td>\n",
              "    </tr>\n",
              "    <tr>\n",
              "      <th>831</th>\n",
              "      <td>1299</td>\n",
              "    </tr>\n",
              "    <tr>\n",
              "      <th>832</th>\n",
              "      <td>1390</td>\n",
              "    </tr>\n",
              "    <tr>\n",
              "      <th>833</th>\n",
              "      <td>9790</td>\n",
              "    </tr>\n",
              "    <tr>\n",
              "      <th>834</th>\n",
              "      <td>799</td>\n",
              "    </tr>\n",
              "    <tr>\n",
              "      <th>835</th>\n",
              "      <td>799</td>\n",
              "    </tr>\n",
              "  </tbody>\n",
              "</table>\n",
              "<p>836 rows × 1 columns</p>\n",
              "</div><br><label><b>dtype:</b> int64</label>"
            ]
          },
          "metadata": {},
          "execution_count": 11
        }
      ],
      "source": [
        "y"
      ]
    },
    {
      "cell_type": "code",
      "execution_count": null,
      "metadata": {
        "id": "eoYIjJOnu2hS"
      },
      "outputs": [],
      "source": [
        "from sklearn.model_selection import train_test_split\n",
        "X_train,X_test,y_train,y_test = train_test_split(X, y, test_size=0.2, random_state = 42)"
      ]
    },
    {
      "cell_type": "code",
      "execution_count": null,
      "metadata": {
        "colab": {
          "base_uri": "https://localhost:8080/"
        },
        "id": "IX3r6kI5vvd-",
        "outputId": "0a09b34a-4c44-4aa3-c042-e33a4aba94cf"
      },
      "outputs": [
        {
          "output_type": "execute_result",
          "data": {
            "text/plain": [
              "((668, 8), (168, 8), (668,), (168,))"
            ]
          },
          "metadata": {},
          "execution_count": 13
        }
      ],
      "source": [
        "X_train.shape,X_test.shape,y_train.shape,y_test.shape"
      ]
    },
    {
      "cell_type": "code",
      "execution_count": null,
      "metadata": {
        "id": "iq4saG1uv1aO"
      },
      "outputs": [],
      "source": [
        "# Aam Zindagi\n",
        "from sklearn.impute import SimpleImputer\n",
        "from sklearn.preprocessing import OneHotEncoder"
      ]
    },
    {
      "cell_type": "code",
      "execution_count": null,
      "metadata": {
        "id": "NSb6dNcxwT2D"
      },
      "outputs": [],
      "source": [
        "#adding simpleimputer to Ratings, RAM, ROM, Mobile_Size, Selfi_Cam, columns\n",
        "si = SimpleImputer()\n",
        "X_train_sim = si.fit_transform(X_train[['Ratings', 'RAM', 'ROM', 'Mobile_Size', 'Selfi_Cam']])\n",
        "X_test_sim = si.fit_transform(X_test[['Ratings', 'RAM', 'ROM', 'Mobile_Size', 'Selfi_Cam']])"
      ]
    },
    {
      "cell_type": "code",
      "execution_count": null,
      "metadata": {
        "id": "n7_gIeuUKb0b"
      },
      "outputs": [],
      "source": [
        "# Concatenate Primary_Cam and Battery_Power with X_train_sim and X_test_sim\n",
        "X_train_sim = np.concatenate((X_train_sim, X_train[['Primary_Cam', 'Battery_Power']].values), axis=1)\n",
        "X_test_sim = np.concatenate((X_test_sim, X_test[['Primary_Cam', 'Battery_Power']].values), axis=1)"
      ]
    },
    {
      "cell_type": "code",
      "execution_count": null,
      "metadata": {
        "id": "ukgRf9jHxwmW"
      },
      "outputs": [],
      "source": [
        "# Convert the imputed data back into a DataFrame\n",
        "X_train_sim = pd.DataFrame(X_train_sim,columns=['Ratings', 'RAM', 'ROM', 'Mobile_Size','Primary_Cam', 'Selfi_Cam','Battery_Power'])\n",
        "X_test_sim = pd.DataFrame(X_test_sim,columns=['Ratings', 'RAM', 'ROM', 'Mobile_Size','Primary_Cam', 'Selfi_Cam','Battery_Power'])"
      ]
    },
    {
      "cell_type": "code",
      "execution_count": null,
      "metadata": {
        "id": "ghqijG426yvi"
      },
      "outputs": [],
      "source": [
        "# Convert the specified columns to Int64\n",
        "X_train_sim[['RAM', 'ROM', 'Selfi_Cam']] = X_train_sim[['RAM', 'ROM', 'Selfi_Cam']].astype('int64')\n",
        "X_test_sim[['RAM', 'ROM', 'Selfi_Cam']] = X_test_sim[['RAM', 'ROM', 'Selfi_Cam']].astype('int64')"
      ]
    },
    {
      "cell_type": "code",
      "source": [
        "# apply Standardscaler\n",
        "#from sklearn.preprocessing import StandardScaler\n",
        "#scaler = StandardScaler()\n",
        "#X_train_sim= scaler.fit_transform(X_train_sim)\n",
        "#X_test_sim = scaler.transform(X_test_sim)"
      ],
      "metadata": {
        "id": "ZfoY4Z-lLeGs"
      },
      "execution_count": null,
      "outputs": []
    },
    {
      "cell_type": "code",
      "source": [
        "#scaler.mean_"
      ],
      "metadata": {
        "id": "SmMdxUjGMTiE"
      },
      "execution_count": null,
      "outputs": []
    },
    {
      "cell_type": "code",
      "source": [
        "#X_train_sim"
      ],
      "metadata": {
        "id": "fExYfdDyNvmy"
      },
      "execution_count": null,
      "outputs": []
    },
    {
      "cell_type": "code",
      "source": [
        "#X_train_sim = pd.DataFrame(X_train_sim,columns=['Ratings', 'RAM', 'ROM', 'Mobile_Size','Primary_Cam', 'Selfi_Cam','Battery_Power'])\n",
        "#X_test_sim = pd.DataFrame(X_test_sim,columns=['Ratings', 'RAM', 'ROM', 'Mobile_Size','Primary_Cam', 'Selfi_Cam','Battery_Power'])"
      ],
      "metadata": {
        "id": "XhydELsXM9U1"
      },
      "execution_count": null,
      "outputs": []
    },
    {
      "cell_type": "code",
      "source": [
        "#np.round(X_train_sim.describe(),1)"
      ],
      "metadata": {
        "id": "48THtYJXNZdZ"
      },
      "execution_count": null,
      "outputs": []
    },
    {
      "cell_type": "code",
      "execution_count": null,
      "metadata": {
        "colab": {
          "base_uri": "https://localhost:8080/"
        },
        "id": "xPKSHqvsKgQt",
        "outputId": "fc8de905-f37d-40c7-f200-175864a5fb36"
      },
      "outputs": [
        {
          "output_type": "execute_result",
          "data": {
            "text/plain": [
              "(668, 7)"
            ]
          },
          "metadata": {},
          "execution_count": 24
        }
      ],
      "source": [
        "X_train_sim.shape"
      ]
    },
    {
      "cell_type": "code",
      "execution_count": null,
      "metadata": {
        "colab": {
          "base_uri": "https://localhost:8080/"
        },
        "id": "omMfEHLVKPaQ",
        "outputId": "b9f1a34a-e41e-44ad-c8dd-81e58fe368c9"
      },
      "outputs": [
        {
          "output_type": "execute_result",
          "data": {
            "text/plain": [
              "(168, 7)"
            ]
          },
          "metadata": {},
          "execution_count": 25
        }
      ],
      "source": [
        "X_test_sim.shape"
      ]
    },
    {
      "cell_type": "code",
      "execution_count": null,
      "metadata": {
        "id": "0E6j9deZzYsV"
      },
      "outputs": [],
      "source": [
        "import numpy as np\n",
        "from sklearn.preprocessing import OneHotEncoder\n",
        "\n",
        "# Initialize the OneHotEncoder\n",
        "# - drop='first' to avoid multicollinearity\n",
        "# - sparse_output=False to return a dense array\n",
        "# - dtype=np.int32 for integer encoding\n",
        "# - handle_unknown='ignore' to gracefully handle unseen categories in test data\n",
        "ohe = OneHotEncoder(\n",
        "    drop='first',\n",
        "    sparse_output=False,\n",
        "    dtype=np.int32,\n",
        "    handle_unknown='ignore'  # This prevents errors for unknown categories\n",
        ")"
      ]
    },
    {
      "cell_type": "code",
      "execution_count": null,
      "metadata": {
        "colab": {
          "base_uri": "https://localhost:8080/"
        },
        "id": "DUjkUMVpMYxf",
        "outputId": "11fc22ee-c576-434c-be59-4625a9416b7b"
      },
      "outputs": [
        {
          "output_type": "stream",
          "name": "stderr",
          "text": [
            "/usr/local/lib/python3.10/dist-packages/sklearn/preprocessing/_encoders.py:242: UserWarning: Found unknown categories in columns [0] during transform. These unknown categories will be encoded as all zeros\n",
            "  warnings.warn(\n"
          ]
        }
      ],
      "source": [
        "# Fit the encoder on the training data and transform it\n",
        "X_train_brand = ohe.fit_transform(X_train[['Brand me']])\n",
        "\n",
        "# Transform the test data using the already fitted encoder\n",
        "X_test_brand = ohe.transform(X_test[['Brand me']])"
      ]
    },
    {
      "cell_type": "code",
      "execution_count": null,
      "metadata": {
        "colab": {
          "base_uri": "https://localhost:8080/"
        },
        "id": "VsnbiGzmMeuI",
        "outputId": "3ce4aaa4-07a3-4e71-a53c-eac4680ea4b8"
      },
      "outputs": [
        {
          "output_type": "execute_result",
          "data": {
            "text/plain": [
              "(668, 382)"
            ]
          },
          "metadata": {},
          "execution_count": 28
        }
      ],
      "source": [
        "X_train_brand.shape"
      ]
    },
    {
      "cell_type": "code",
      "execution_count": null,
      "metadata": {
        "colab": {
          "base_uri": "https://localhost:8080/"
        },
        "id": "KMa01sgQMmBf",
        "outputId": "dbc6c977-9cd6-403f-9b0f-151eb7911fdd"
      },
      "outputs": [
        {
          "output_type": "execute_result",
          "data": {
            "text/plain": [
              "(168, 382)"
            ]
          },
          "metadata": {},
          "execution_count": 29
        }
      ],
      "source": [
        "X_test_brand.shape"
      ]
    },
    {
      "cell_type": "code",
      "execution_count": null,
      "metadata": {
        "id": "N3scCUNl12kQ"
      },
      "outputs": [],
      "source": [
        "# Create a list of column names for the one-hot encoded columns\n",
        "#brand_me_columns = [f'Brand me_{i}' for i in range(X_train_brand.shape[1])]\n",
        "# Create the DataFrame with appropriate column names\n",
        "#X_train_brand = pd.DataFrame(X_train_brand, columns=brand_me_columns)"
      ]
    },
    {
      "cell_type": "code",
      "execution_count": null,
      "metadata": {
        "id": "flMX-LgE3nam"
      },
      "outputs": [],
      "source": [
        "X_train_transformed = np.concatenate((X_train_sim, X_train_brand),axis=1)\n",
        "X_test_transformed = np.concatenate((X_test_sim, X_test_brand),axis=1)"
      ]
    },
    {
      "cell_type": "code",
      "execution_count": null,
      "metadata": {
        "id": "oVvwPJel4RdA"
      },
      "outputs": [],
      "source": [
        "X_train_transformed = pd.DataFrame(X_train_transformed)\n",
        "X_test_transformed = pd.DataFrame(X_test_transformed)"
      ]
    },
    {
      "cell_type": "code",
      "execution_count": null,
      "metadata": {
        "colab": {
          "base_uri": "https://localhost:8080/"
        },
        "id": "hxkFmlwE5OF2",
        "outputId": "b0f09842-fb70-49ee-dec4-c9c2001ca1a2"
      },
      "outputs": [
        {
          "output_type": "execute_result",
          "data": {
            "text/plain": [
              "(668, 389)"
            ]
          },
          "metadata": {},
          "execution_count": 33
        }
      ],
      "source": [
        "X_train_transformed.shape"
      ]
    },
    {
      "cell_type": "code",
      "execution_count": null,
      "metadata": {
        "colab": {
          "base_uri": "https://localhost:8080/"
        },
        "id": "c95DlxFPFl0I",
        "outputId": "3bded640-d602-4c86-974c-7e20e8cedd82"
      },
      "outputs": [
        {
          "output_type": "execute_result",
          "data": {
            "text/plain": [
              "(168, 389)"
            ]
          },
          "metadata": {},
          "execution_count": 34
        }
      ],
      "source": [
        "X_test_transformed.shape"
      ]
    },
    {
      "cell_type": "code",
      "execution_count": null,
      "metadata": {
        "colab": {
          "base_uri": "https://localhost:8080/"
        },
        "id": "AxLtbiFGGd_K",
        "outputId": "d1516bc9-fc8c-4098-b03d-18f83ce64765"
      },
      "outputs": [
        {
          "output_type": "stream",
          "name": "stdout",
          "text": [
            "\n",
            "Linear Regression - Root Mean Squared Error (RMSE): 13488.325159045939\n",
            "Linear Regression - R² Score: 0.92174751144857\n"
          ]
        }
      ],
      "source": [
        "from sklearn.linear_model import LinearRegression\n",
        "from sklearn.metrics import mean_squared_error, r2_score\n",
        "### LINEAR REGRESSION ###\n",
        "# Train the Linear Regression model\n",
        "lr_model = LinearRegression()  # Initialize Linear Regression\n",
        "lr_model.fit(X_train_transformed, y_train)  # Fit the model on training data\n",
        "\n",
        "# Make predictions on the test set using Linear Regression\n",
        "y_pred_lr = lr_model.predict(X_test_transformed)\n",
        "\n",
        "# Evaluate Linear Regression model\n",
        "mse_lr = mean_squared_error(y_test, y_pred_lr)  # Calculate Mean Squared Error\n",
        "rmse_lr = np.sqrt(mse_lr)  # Calculate Root Mean Squared Error (RMSE)\n",
        "r2_lr = r2_score(y_test, y_pred_lr)  # Calculate R² score\n",
        "\n",
        "# Print evaluation metrics for Linear Regression\n",
        "print(\"\\nLinear Regression - Root Mean Squared Error (RMSE):\", rmse_lr)\n",
        "print(\"Linear Regression - R² Score:\", r2_lr)\n"
      ]
    },
    {
      "cell_type": "code",
      "execution_count": null,
      "metadata": {
        "colab": {
          "base_uri": "https://localhost:8080/"
        },
        "id": "LirqZrPXiByJ",
        "outputId": "dbb76865-15c2-46d6-919c-f8db2db4d48d"
      },
      "outputs": [
        {
          "output_type": "stream",
          "name": "stdout",
          "text": [
            "\n",
            "Random Forest Regression - Root Mean Squared Error (RMSE): 17212.313549505816\n",
            "Random Forest Regression - R² Score: 0.8725732514362006\n"
          ]
        }
      ],
      "source": [
        "from sklearn.ensemble import RandomForestRegressor\n",
        "from sklearn.metrics import mean_squared_error, r2_score\n",
        "## RANDOM FOREST REGRESSION ###\n",
        "\n",
        "# Train the Random Forest Regression model\n",
        "rf_model = RandomForestRegressor(random_state=42)  # Initialize RandomForestRegressor\n",
        "rf_model.fit(X_train_transformed, y_train)  # Fit the model on training data\n",
        "\n",
        "# Make predictions on the test set using Random Forest\n",
        "y_pred_rf = rf_model.predict(X_test_transformed)\n",
        "\n",
        "# Evaluate Random Forest model\n",
        "mse_rf = mean_squared_error(y_test, y_pred_rf)  # Calculate Mean Squared Error\n",
        "rmse_rf = np.sqrt(mse_rf)  # Calculate Root Mean Squared Error (RMSE)\n",
        "r2_rf = r2_score(y_test, y_pred_rf)  # Calculate R² score\n",
        "\n",
        "# Print evaluation metrics for Random Forest Regression\n",
        "print(\"\\nRandom Forest Regression - Root Mean Squared Error (RMSE):\", rmse_rf)\n",
        "print(\"Random Forest Regression - R² Score:\", r2_rf)\n"
      ]
    },
    {
      "cell_type": "code",
      "execution_count": null,
      "metadata": {
        "id": "-7at346AQQXP"
      },
      "outputs": [],
      "source": [
        "import pickle\n",
        "\n",
        "# Save the Linear Regression model to a file\n",
        "pickle.dump(lr_model,open('lr_model.pkl','wb'))\n",
        "pickle.dump(data,open('data.pkl','wb'))\n",
        "pickle.dump(ohe,open('ohe.pkl', 'wb'))\n",
        "\n",
        "\n"
      ]
    },
    {
      "cell_type": "code",
      "execution_count": null,
      "metadata": {
        "id": "85HIBJdawkMr",
        "colab": {
          "base_uri": "https://localhost:8080/"
        },
        "outputId": "62de32b0-a914-4502-b2d0-e5c5cf9dbb34"
      },
      "outputs": [
        {
          "output_type": "stream",
          "name": "stdout",
          "text": [
            "\u001b[2K     \u001b[90m━━━━━━━━━━━━━━━━━━━━━━━━━━━━━━━━━━━━━━━━\u001b[0m \u001b[32m41.9/41.9 kB\u001b[0m \u001b[31m1.7 MB/s\u001b[0m eta \u001b[36m0:00:00\u001b[0m\n",
            "\u001b[2K   \u001b[90m━━━━━━━━━━━━━━━━━━━━━━━━━━━━━━━━━━━━━━━━\u001b[0m \u001b[32m8.7/8.7 MB\u001b[0m \u001b[31m37.9 MB/s\u001b[0m eta \u001b[36m0:00:00\u001b[0m\n",
            "\u001b[2K   \u001b[90m━━━━━━━━━━━━━━━━━━━━━━━━━━━━━━━━━━━━━━━━\u001b[0m \u001b[32m6.9/6.9 MB\u001b[0m \u001b[31m44.8 MB/s\u001b[0m eta \u001b[36m0:00:00\u001b[0m\n",
            "\u001b[2K   \u001b[90m━━━━━━━━━━━━━━━━━━━━━━━━━━━━━━━━━━━━━━━━\u001b[0m \u001b[32m79.3/79.3 kB\u001b[0m \u001b[31m5.0 MB/s\u001b[0m eta \u001b[36m0:00:00\u001b[0m\n",
            "\u001b[?25h"
          ]
        }
      ],
      "source": [
        "!pip install streamlit -q"
      ]
    },
    {
      "cell_type": "code",
      "execution_count": null,
      "metadata": {
        "colab": {
          "base_uri": "https://localhost:8080/"
        },
        "id": "pbwxW95EwqYS",
        "outputId": "bfef6972-8f29-4ac2-8183-339e00683d3c"
      },
      "outputs": [
        {
          "output_type": "stream",
          "name": "stdout",
          "text": [
            "199.223.232.156\n"
          ]
        }
      ],
      "source": [
        "! wget -q -O - ipv4.icanhazip.com"
      ]
    },
    {
      "cell_type": "code",
      "execution_count": null,
      "metadata": {
        "colab": {
          "base_uri": "https://localhost:8080/"
        },
        "id": "85b-YDYTwxc5",
        "outputId": "5cc03489-02dd-4d7f-c111-2bf8e8974e71"
      },
      "outputs": [
        {
          "output_type": "stream",
          "name": "stdout",
          "text": [
            "\n",
            "Collecting usage statistics. To deactivate, set browser.gatherUsageStats to false.\n",
            "\u001b[0m\n",
            "\u001b[0m\n",
            "\u001b[34m\u001b[1m  You can now view your Streamlit app in your browser.\u001b[0m\n",
            "\u001b[0m\n",
            "\u001b[34m  Local URL: \u001b[0m\u001b[1mhttp://localhost:8501\u001b[0m\n",
            "\u001b[34m  Network URL: \u001b[0m\u001b[1mhttp://172.28.0.12:8501\u001b[0m\n",
            "\u001b[34m  External URL: \u001b[0m\u001b[1mhttp://199.223.232.156:8501\u001b[0m\n",
            "\u001b[0m\n",
            "\u001b[1G\u001b[0JNeed to install the following packages:\n",
            "  localtunnel@2.0.2\n",
            "Ok to proceed? (y) \u001b[20Gy\n",
            "\u001b[K\u001b[?25hyour url is: https://quiet-geckos-doubt.loca.lt\n",
            "/usr/local/lib/python3.10/dist-packages/sklearn/base.py:486: UserWarning: X has feature names, but LinearRegression was fitted without feature names\n",
            "  warnings.warn(\n",
            "\u001b[34m  Stopping...\u001b[0m\n",
            "^C\n"
          ]
        }
      ],
      "source": [
        "! streamlit run app.py & npx localtunnel --port 8501"
      ]
    }
  ],
  "metadata": {
    "colab": {
      "provenance": []
    },
    "kernelspec": {
      "display_name": "Python 3",
      "name": "python3"
    },
    "language_info": {
      "name": "python"
    }
  },
  "nbformat": 4,
  "nbformat_minor": 0
}